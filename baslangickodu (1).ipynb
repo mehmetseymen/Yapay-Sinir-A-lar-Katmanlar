{
  "nbformat": 4,
  "nbformat_minor": 0,
  "metadata": {
    "colab": {
      "name": "baslangickodu.ipynb",
      "provenance": [],
      "collapsed_sections": []
    },
    "kernelspec": {
      "name": "python3",
      "display_name": "Python 3"
    },
    "accelerator": "GPU"
  },
  "cells": [
    {
      "cell_type": "markdown",
      "metadata": {
        "id": "mGXVghLjbIFQ"
      },
      "source": [
        "Verisetini indiren kod:"
      ]
    },
    {
      "cell_type": "code",
      "metadata": {
        "id": "uzTaf0QSRzVg"
      },
      "source": [
        "!gdown --id 1VOV-B9Ga_tgcm9UipwBEHVDNpmsU3QEe\r\n",
        "!unzip dataset"
      ],
      "execution_count": null,
      "outputs": []
    },
    {
      "cell_type": "markdown",
      "metadata": {
        "id": "Mt8EazBAbSLx"
      },
      "source": [
        "Veriseti yapısı:\r\n",
        "\r\n",
        "```\r\n",
        "dataset/\r\n",
        "--sınıf_adı/resimadi1, resimadi1...\r\n",
        "--diger_sınıf/resimadi1, resimadi2...\r\n",
        "...\r\n",
        "```\r\n",
        "\r\n"
      ]
    },
    {
      "cell_type": "code",
      "metadata": {
        "id": "0SUtk83ib4iA"
      },
      "source": [
        "import tensorflow as tf\r\n",
        "from tensorflow.keras.preprocessing.image import ImageDataGenerator\r\n",
        "\r\n",
        "import os\r\n",
        "import numpy as np\r\n",
        "import matplotlib.pyplot as plt\r\n",
        "\r\n",
        "from tensorflow.keras import layers \r\n",
        "\r\n",
        "image_gen = ImageDataGenerator(rescale=1./255, \r\n",
        "                               horizontal_flip=True, \r\n",
        "                               rotation_range=45, width_shift_range=0.1, \r\n",
        "                               height_shift_range=0.1, zoom_range=0.2, \r\n",
        "                               validation_split=0.2)\r\n",
        "\r\n",
        "train_generator = image_gen.flow_from_directory(batch_size=32,\r\n",
        "                                               directory='dataset/',\r\n",
        "                                               shuffle=True,\r\n",
        "                                               target_size=(28,28),\r\n",
        "                                               subset='training',\r\n",
        "                                               color_mode = \"grayscale\",\r\n",
        "                                               )\r\n",
        "\r\n",
        "valid_generator = image_gen.flow_from_directory(batch_size=32,\r\n",
        "                                               directory='dataset/',\r\n",
        "                                               shuffle=False,\r\n",
        "                                               target_size=(28,28),\r\n",
        "                                               subset='validation',\r\n",
        "                                               color_mode=\"grayscale\"\r\n",
        "                                               )"
      ],
      "execution_count": null,
      "outputs": []
    },
    {
      "cell_type": "code",
      "metadata": {
        "id": "9ODch-OFCaW4"
      },
      "source": [
        "model = tf.keras.Sequential([\n",
        "    tf.keras.layers.Flatten(input_shape=(28, 28, 1)),\n",
        "    tf.keras.layers.Dense(128, activation=tf.nn.relu),\n",
        "    tf.keras.layers.Dropout(0.1),\n",
        "    tf.keras.layers.Dense(128, activation=tf.nn.relu),\n",
        "    tf.keras.layers.Dropout(0.1),\n",
        "    tf.keras.layers.Dense(128, activation=tf.nn.relu),\n",
        "    tf.keras.layers.Dense(10, activation=tf.nn.softmax)\n",
        "])"
      ],
      "execution_count": null,
      "outputs": []
    },
    {
      "cell_type": "code",
      "metadata": {
        "id": "Lhan11blCaW7"
      },
      "source": [
        "model.compile(optimizer='adam',\n",
        "              loss=\"categorical_crossentropy\",\n",
        "              metrics=['accuracy'])\n",
        "tarihce = model.fit_generator(train_generator, epochs=300, \n",
        "                    steps_per_epoch=126,\n",
        "                    validation_data=valid_generator,\n",
        "                    validation_steps=32)"
      ],
      "execution_count": null,
      "outputs": []
    },
    {
      "cell_type": "code",
      "metadata": {
        "id": "VYjykAXAauZI"
      },
      "source": [
        "model.summary()"
      ],
      "execution_count": null,
      "outputs": []
    },
    {
      "cell_type": "code",
      "metadata": {
        "id": "U0dgrYK4bIRK"
      },
      "source": [
        "acc = tarihce.history['accuracy']\r\n",
        "val_acc = tarihce.history['val_accuracy']\r\n",
        "\r\n",
        "loss = tarihce.history['loss']\r\n",
        "val_loss = tarihce.history['val_loss']\r\n",
        "\r\n",
        "epochs_range = range(100)\r\n",
        "\r\n",
        "plt.figure(figsize=(8, 8))\r\n",
        "plt.subplot(1, 2, 1)\r\n",
        "plt.plot(epochs_range, acc, label='Training Accuracy')\r\n",
        "plt.plot(epochs_range, val_acc, label='Validation Accuracy')\r\n",
        "plt.legend(loc='lower right')\r\n",
        "plt.title('Training and Validation Accuracy')\r\n",
        "\r\n",
        "plt.subplot(1, 2, 2)\r\n",
        "plt.plot(epochs_range, loss, label='Training Loss')\r\n",
        "plt.plot(epochs_range, val_loss, label='Validation Loss')\r\n",
        "plt.legend(loc='upper right')\r\n",
        "plt.title('Training and Validation Loss')\r\n",
        "plt.savefig('./foo.png')\r\n",
        "plt.show()"
      ],
      "execution_count": null,
      "outputs": []
    },
    {
      "cell_type": "markdown",
      "metadata": {
        "id": "LYYm6S03Q85g"
      },
      "source": [
        "Not: Model derlenirken loss=\"categorical_crossentropy\", eğitilirken de fit yerine fit_generator kullanılıp aşağıdaki gibi olmalıdır.\r\n",
        "\r\n",
        "\r\n",
        "```\r\n",
        "model.compile(optimizer='adam',\r\n",
        "              loss=\"categorical_crossentropy\",\r\n",
        "              metrics=['accuracy'])\r\n",
        "model.fit_generator(train_generator, epochs=50, \r\n",
        "                    steps_per_epoch=126,\r\n",
        "                    validation_data=valid_generator,\r\n",
        "                    validation_steps=32)\r\n",
        "```\r\n",
        "\r\n",
        "\r\n",
        "\r\n"
      ]
    }
  ]
}